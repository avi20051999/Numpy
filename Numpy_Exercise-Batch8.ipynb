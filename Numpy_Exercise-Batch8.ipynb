{
 "cells": [
  {
   "cell_type": "markdown",
   "metadata": {},
   "source": [
    "# Numpy Exercise  <img src = \"numpy1.png\">\n",
    "###### Authored by T.K.Senthil Kumar"
   ]
  },
  {
   "cell_type": "markdown",
   "metadata": {},
   "source": [
    "#### 1. Create a numpy array with the number of elements equals your age. The value of array elements is a random number between 10 to your age "
   ]
  },
  {
   "cell_type": "code",
   "execution_count": 1,
   "metadata": {},
   "outputs": [
    {
     "name": "stdout",
     "output_type": "stream",
     "text": [
      "[21 13 19 16 21 10 11 19 18 19 12 17 13 13 16 13 15 13 19 17 14 13]\n"
     ]
    }
   ],
   "source": [
    "import numpy as np\n",
    "ar1=np.random.randint(10,22,22)\n",
    "ar2=np.array(ar1)\n",
    "print(ar2)\n"
   ]
  },
  {
   "cell_type": "markdown",
   "metadata": {},
   "source": [
    "##### 2. Create a numpy array between 1 to 50 with the span(space) of 2 and print the length of the array"
   ]
  },
  {
   "cell_type": "code",
   "execution_count": 12,
   "metadata": {},
   "outputs": [
    {
     "name": "stdout",
     "output_type": "stream",
     "text": [
      "[ 1  3  5  7  9 11 13 15 17 19 21 23 25 27 29 31 33 35 37 39 41 43 45 47\n",
      " 49]\n",
      "25\n"
     ]
    }
   ],
   "source": [
    "ar3=np.arange(1,50,2)\n",
    "print(ar3)\n",
    "print(len(ar3))\n",
    "\n",
    "\n"
   ]
  },
  {
   "cell_type": "markdown",
   "metadata": {},
   "source": [
    "#### 3. Create an equally spaced numpy array with 27 elements between 4 and 7 "
   ]
  },
  {
   "cell_type": "code",
   "execution_count": 13,
   "metadata": {},
   "outputs": [
    {
     "name": "stdout",
     "output_type": "stream",
     "text": [
      "[4.         4.11538462 4.23076923 4.34615385 4.46153846 4.57692308\n",
      " 4.69230769 4.80769231 4.92307692 5.03846154 5.15384615 5.26923077\n",
      " 5.38461538 5.5        5.61538462 5.73076923 5.84615385 5.96153846\n",
      " 6.07692308 6.19230769 6.30769231 6.42307692 6.53846154 6.65384615\n",
      " 6.76923077 6.88461538 7.        ]\n"
     ]
    }
   ],
   "source": [
    "ar4=np.linspace(4,7,27)\n",
    "print(ar4)\n",
    "\n"
   ]
  },
  {
   "cell_type": "markdown",
   "metadata": {},
   "source": [
    "#### 4. Create a matrix of size (5 x 4) with random numbers and round off the each elements by only 2 fractional points."
   ]
  },
  {
   "cell_type": "code",
   "execution_count": 6,
   "metadata": {},
   "outputs": [
    {
     "name": "stdout",
     "output_type": "stream",
     "text": [
      "[[0.47 0.02 0.22 0.03]\n",
      " [0.94 0.21 0.75 0.19]\n",
      " [0.66 0.9  0.87 0.44]\n",
      " [0.04 0.92 0.35 0.71]\n",
      " [0.74 0.61 0.09 0.46]]\n"
     ]
    }
   ],
   "source": [
    "mat=np.random.random((5,4))\n",
    "print(np.round(mat,2))\n",
    "\n",
    "\n"
   ]
  },
  {
   "cell_type": "markdown",
   "metadata": {},
   "source": [
    "#### 5. Create a matrix of size (5x5) with random integers between 5 to 15"
   ]
  },
  {
   "cell_type": "code",
   "execution_count": 14,
   "metadata": {},
   "outputs": [
    {
     "name": "stdout",
     "output_type": "stream",
     "text": [
      "[[13 13 10  7 10]\n",
      " [14 11  7 14  5]\n",
      " [ 9  7  5 10  6]\n",
      " [ 7  5 12 11  8]\n",
      " [10 14 11 10  8]]\n"
     ]
    }
   ],
   "source": [
    "ar6=np.random.randint(5,15,(5,5))\n",
    "print(ar6)\n",
    "\n",
    "\n"
   ]
  },
  {
   "cell_type": "markdown",
   "metadata": {},
   "source": [
    "#### 6. Create the one dimensional array of zeros of random length below 20 with the data type int32"
   ]
  },
  {
   "cell_type": "code",
   "execution_count": 8,
   "metadata": {},
   "outputs": [
    {
     "name": "stdout",
     "output_type": "stream",
     "text": [
      "[0. 0. 0. 0. 0.] float32\n"
     ]
    }
   ],
   "source": [
    "oned_ar=np.zeros(5,dtype=np.float32)\n",
    "print(oned_ar,oned_ar.dtype)\n",
    "\n"
   ]
  },
  {
   "cell_type": "markdown",
   "metadata": {},
   "source": [
    "#### 7. Create a two dimensional array of ones of random row and column lengths with the data type of float32 "
   ]
  },
  {
   "cell_type": "code",
   "execution_count": 9,
   "metadata": {},
   "outputs": [
    {
     "name": "stdout",
     "output_type": "stream",
     "text": [
      "[[1. 1. 1. 1.]\n",
      " [1. 1. 1. 1.]\n",
      " [1. 1. 1. 1.]\n",
      " [1. 1. 1. 1.]\n",
      " [1. 1. 1. 1.]] float32\n"
     ]
    }
   ],
   "source": [
    "twod_ar=np.ones((5,4),dtype=np.float32)\n",
    "print(twod_ar,twod_ar.dtype)\n",
    "\n",
    "\n"
   ]
  },
  {
   "cell_type": "markdown",
   "metadata": {},
   "source": [
    "#### 8. Create a matrix exactly as same as shown below and print its shape, type and dtype\n",
    "<img src = \"np_mat1.png\">"
   ]
  },
  {
   "cell_type": "code",
   "execution_count": 5,
   "metadata": {},
   "outputs": [
    {
     "name": "stdout",
     "output_type": "stream",
     "text": [
      "(5, 5)\n",
      "int64\n",
      "<class 'numpy.ndarray'>\n"
     ]
    }
   ],
   "source": [
    "mat1=np.array([[9,25,50,34,45],[3,34,34,65,2],[5,7,3,76,3],[7,8,6,54,6],[23,12,8,5,8]])\n",
    "print(mat1.shape)\n",
    "print(mat1.dtype)\n",
    "print(type(mat1))"
   ]
  },
  {
   "cell_type": "markdown",
   "metadata": {},
   "source": [
    "#### 9. Access the center pixel of the matrix defined in the question no 8 ( Don't enter the row and column index explicitely)"
   ]
  },
  {
   "cell_type": "code",
   "execution_count": 6,
   "metadata": {},
   "outputs": [
    {
     "name": "stdout",
     "output_type": "stream",
     "text": [
      "The center pixeel of matrix is 3\n"
     ]
    }
   ],
   "source": [
    "y=mat1.flatten()\n",
    "mid=y[int(len(y)/2)]\n",
    "print(\"The center pixeel of matrix is\",mid)\n",
    "\n",
    "\n"
   ]
  },
  {
   "cell_type": "markdown",
   "metadata": {},
   "source": [
    "#### 10. Print the all the elements of 3rd row of the matrix"
   ]
  },
  {
   "cell_type": "code",
   "execution_count": 19,
   "metadata": {},
   "outputs": [
    {
     "name": "stdout",
     "output_type": "stream",
     "text": [
      "[ 5  7  3 76  3]\n"
     ]
    }
   ],
   "source": [
    "print(mat1[2,:])\n",
    "\n",
    "\n"
   ]
  },
  {
   "cell_type": "markdown",
   "metadata": {},
   "source": [
    "#### 11. Print the all the elements of 4th columns of the matrix"
   ]
  },
  {
   "cell_type": "code",
   "execution_count": 20,
   "metadata": {},
   "outputs": [
    {
     "name": "stdout",
     "output_type": "stream",
     "text": [
      "[34 65 76 54  5]\n"
     ]
    }
   ],
   "source": [
    "print(mat1[:,3])\n",
    "\n"
   ]
  },
  {
   "cell_type": "markdown",
   "metadata": {},
   "source": [
    "#### 12. Print the 4 corner pixels of the matrix"
   ]
  },
  {
   "cell_type": "code",
   "execution_count": 22,
   "metadata": {},
   "outputs": [
    {
     "name": "stdout",
     "output_type": "stream",
     "text": [
      "[[54  6]\n",
      " [ 5  8]]\n"
     ]
    }
   ],
   "source": [
    "print(mat1[3:,3:])\n",
    "\n",
    "\n"
   ]
  },
  {
   "cell_type": "markdown",
   "metadata": {},
   "source": [
    "#### 13. Create three matrix m1,m2,m3 with the elements grouped in the figure below\n",
    "<img src = \"np_mat2.png\">"
   ]
  },
  {
   "cell_type": "code",
   "execution_count": 8,
   "metadata": {},
   "outputs": [],
   "source": [
    "m1=np.array([[50,34],[34,65]])\n",
    "m3=np.array([[3,76,3],[6,54,6],[8,5,8]])\n",
    "m2=np.array([[7,8],[23,12]])\n",
    "\n",
    "\n"
   ]
  },
  {
   "cell_type": "markdown",
   "metadata": {},
   "source": [
    "#### 14. Reshape all the three matrix segmented in the above task in to three  1-dimensional vector."
   ]
  },
  {
   "cell_type": "code",
   "execution_count": 40,
   "metadata": {},
   "outputs": [
    {
     "name": "stdout",
     "output_type": "stream",
     "text": [
      "[[50]\n",
      " [34]\n",
      " [34]\n",
      " [65]]\n",
      "[[ 3]\n",
      " [76]\n",
      " [ 3]\n",
      " [ 6]\n",
      " [54]\n",
      " [ 6]\n",
      " [ 8]\n",
      " [ 5]\n",
      " [ 8]]\n",
      "[[ 7]\n",
      " [ 8]\n",
      " [23]\n",
      " [12]]\n"
     ]
    }
   ],
   "source": [
    "r1=m1.reshape(4,1)\n",
    "print(r1)\n",
    "r2=m2.reshape(9,1)\n",
    "print(r2)\n",
    "r3=m3.reshape(4,1)\n",
    "print(r3)\n"
   ]
  },
  {
   "cell_type": "markdown",
   "metadata": {},
   "source": [
    "#### 15. Concatenate the matrix m1 and m2 in both vertical and horizontal direction"
   ]
  },
  {
   "cell_type": "code",
   "execution_count": 9,
   "metadata": {},
   "outputs": [
    {
     "name": "stdout",
     "output_type": "stream",
     "text": [
      "[[50 34]\n",
      " [34 65]\n",
      " [ 7  8]\n",
      " [23 12]]\n",
      "[[50 34  7  8]\n",
      " [34 65 23 12]]\n"
     ]
    }
   ],
   "source": [
    "c1=np.concatenate((m1,m2),axis=0)\n",
    "c2=np.concatenate((m1,m2),axis=1)\n",
    "print(c1)\n",
    "print(c2)\n",
    "\n"
   ]
  },
  {
   "cell_type": "markdown",
   "metadata": {},
   "source": [
    "#### 16. Add, Subtract, multiply, divide the matrixes m1 and m2"
   ]
  },
  {
   "cell_type": "code",
   "execution_count": 10,
   "metadata": {},
   "outputs": [
    {
     "name": "stdout",
     "output_type": "stream",
     "text": [
      "[[57 42]\n",
      " [57 77]]\n",
      "[[43 26]\n",
      " [11 53]]\n",
      "[[350 272]\n",
      " [782 780]]\n",
      "[[7.14285714 4.25      ]\n",
      " [1.47826087 5.41666667]]\n"
     ]
    }
   ],
   "source": [
    "print(m1+m2)\n",
    "print(m1-m2)\n",
    "print(m1*m2)\n",
    "print(m1/m2)\n",
    "\n",
    "\n"
   ]
  },
  {
   "cell_type": "markdown",
   "metadata": {},
   "source": [
    "#### 17. Add the m1 with m3 by removing the first row and last column of m3"
   ]
  },
  {
   "cell_type": "code",
   "execution_count": 16,
   "metadata": {},
   "outputs": [
    {
     "name": "stdout",
     "output_type": "stream",
     "text": [
      "[[56 88]\n",
      " [42 70]]\n"
     ]
    }
   ],
   "source": [
    "m31=m3[1:3,0:2]\n",
    "print(m1+m31)\n",
    "\n"
   ]
  },
  {
   "cell_type": "markdown",
   "metadata": {},
   "source": [
    "#### 18. Form the matrix m4 by concatenating (as a new row) the vector [me1, me2] with the matrix m1, where me1 and me2 are the mean values of each column on m1."
   ]
  },
  {
   "cell_type": "code",
   "execution_count": 35,
   "metadata": {},
   "outputs": [
    {
     "name": "stdout",
     "output_type": "stream",
     "text": [
      "[[42.  49.5]\n",
      " [50.  34. ]\n",
      " [34.  65. ]]\n"
     ]
    }
   ],
   "source": [
    "mean1=m1[:,0].mean()\n",
    "mean2=m1[:,1].mean()\n",
    "r1=np.array([[mean1,mean2]])\n",
    "m4=np.concatenate((r1,m1),axis=0)\n",
    "print(m4)\n"
   ]
  },
  {
   "cell_type": "markdown",
   "metadata": {},
   "source": [
    "#### 19. Perform the matrix multiplication between m3 and m4"
   ]
  },
  {
   "cell_type": "code",
   "execution_count": 38,
   "metadata": {},
   "outputs": [
    {
     "name": "stdout",
     "output_type": "stream",
     "text": [
      "[[4028.  2927.5]\n",
      " [3156.  2523. ]\n",
      " [ 858.  1086. ]]\n"
     ]
    }
   ],
   "source": [
    "print(np.matmul(m3,m4))\n",
    "\n",
    "\n"
   ]
  },
  {
   "cell_type": "markdown",
   "metadata": {},
   "source": [
    "#### 20. Compute the maximum and minimum value of mean, variance, standard deviation for each row of matrix created in question number 8."
   ]
  },
  {
   "cell_type": "code",
   "execution_count": 28,
   "metadata": {},
   "outputs": [
    {
     "name": "stdout",
     "output_type": "stream",
     "text": [
      "214.64000000000001\n",
      "14.65059725744995\n",
      "548.24\n",
      "23.414525406251563\n",
      "820.1600000000001\n",
      "18.8\n",
      "357.75999999999993\n",
      "16.2\n",
      "39.760000000000005\n",
      "6.305553108173779\n"
     ]
    }
   ],
   "source": [
    "me1=mat1[0,:].mean()\n",
    "var1=mat1[0,:].var()\n",
    "std1=mat1[0,:].std()\n",
    "me2=mat1[1,:].mean()\n",
    "var2=mat1[1,:].var()\n",
    "std2=mat1[1,:].std()\n",
    "me3=mat1[2,:].mean()\n",
    "var3=mat1[2,:].var()\n",
    "std3=mat1[2,:].std()\n",
    "me4=mat1[3,:].mean()\n",
    "var4=mat1[3,:].var()\n",
    "std4=mat1[3,:].std()\n",
    "me5=mat1[4,:].mean()\n",
    "var5=mat1[4,:].var()\n",
    "std5=mat1[4,:].std()\n",
    "print(max(me1,var1,std1))\n",
    "print(min(me1,var1,std1))\n",
    "print(max(me2,var2,std2))\n",
    "print(min(me2,var2,std2))\n",
    "print(max(me3,var3,std3))\n",
    "print(min(me3,var3,std3))\n",
    "print(max(me4,var4,std4))\n",
    "print(min(me4,var4,std4))\n",
    "print(max(me5,var5,std5))\n",
    "print(min(me5,var5,std5))"
   ]
  },
  {
   "cell_type": "markdown",
   "metadata": {},
   "source": [
    "#### 21. Compute the average and strike rate for each player and sort it decending way (seperately for avg and strike rate)\n",
    "<img src = 'crick1.png'>"
   ]
  },
  {
   "cell_type": "code",
   "execution_count": 30,
   "metadata": {},
   "outputs": [
    {
     "name": "stdout",
     "output_type": "stream",
     "text": [
      "[[13.5  15.    2.5  16.25]\n",
      " [25.5   0.5  19.5   8.  ]\n",
      " [ 0.75 27.5   0.25 23.  ]\n",
      " [14.    1.5   3.   10.5 ]\n",
      " [ 3.    2.    5.5   2.75]]\n",
      "[[ 2.    2.75  3.    5.5 ]\n",
      " [ 1.5   3.   10.5  14.  ]\n",
      " [ 0.25  0.75 23.   27.5 ]\n",
      " [ 0.5   8.   19.5  25.5 ]\n",
      " [ 2.5  13.5  15.   16.25]]\n",
      "[[ 40.          40.74074074  50.          61.11111111]\n",
      " [109.09090909 135.48387097 200.         207.40740741]\n",
      " [ 14.28571429  33.33333333  91.08910891 110.        ]\n",
      " [ 25.          74.41860465 107.36842105 120.        ]\n",
      " [ 45.45454545  83.33333333 108.         142.85714286]]\n"
     ]
    }
   ],
   "source": [
    "runs=np.array([['MSD',54,60,10,65],['Kholi',102,2,78,32],['Rohit',3,110,1,92],['Rahul',56,6,12,42],['Dhawan',12,8,22,11]])\n",
    "balls=np.array([['MSD',50,42,22,78],['Kholi',95,8,65,43],['Rohit',9,100,7,101],['Rahul',27,3,11,31],['Dhawan',24,20,36,27]])\n",
    "runs=runs[:,1:].astype(int)\n",
    "balls=balls[:,1:].astype(int)\n",
    "avg1=runs[0:,:]/4\n",
    "strike_rate=(runs/balls)*100\n",
    "print(avg1)\n",
    "sort_strikerate=np.sort(strike_rate)[::-1]\n",
    "print(sort_avg)\n",
    "print(sort_strikerate)"
   ]
  },
  {
   "cell_type": "markdown",
   "metadata": {},
   "source": [
    "#### 22. The students mark was recorded in a numpy array: marks = np.array([65,84,47,56,89,98,48,77,80,39]).  Cutoff for pass is 50 marks. Write the logic to print the number of students passed and failed. "
   ]
  },
  {
   "cell_type": "code",
   "execution_count": 3,
   "metadata": {},
   "outputs": [
    {
     "name": "stdout",
     "output_type": "stream",
     "text": [
      "The number of students passed are 7\n",
      "The number of students failed are 3\n"
     ]
    }
   ],
   "source": [
    "marks = np.array([65,84,47,56,89,98,48,77,80,39])\n",
    "pass_stud=marks[marks>50]\n",
    "fail_stud=marks[marks<50]\n",
    "print(\"The number of students passed are\",len(pass_stud))\n",
    "print(\"The number of students failed are\",len(fail_stud))\n",
    "\n"
   ]
  },
  {
   "cell_type": "markdown",
   "metadata": {},
   "source": [
    "#### 23. The class incharge decided to give a mercy mark of 5 for those who scored between 45 and 49. Also the bonus of 5 marks awarded to the students who scored more than 80. Print all the student marks and compute the increase in the pass percentage of class. Any score more than 100 must be recorded as only 100."
   ]
  },
  {
   "cell_type": "code",
   "execution_count": 4,
   "metadata": {},
   "outputs": [
    {
     "name": "stdout",
     "output_type": "stream",
     "text": [
      "[ 65  89  52  56  94 100  53  77  80  39]\n"
     ]
    }
   ],
   "source": [
    "ind=np.where((marks > 45) & (marks < 49))\n",
    "marks[ind]=marks[ind]+5\n",
    "ind1=np.where((marks >80))\n",
    "marks[ind1]=marks[ind1]+5\n",
    "ind2=np.where((marks>100))\n",
    "marks[ind2]=100\n",
    "print(marks)\n",
    "\n",
    "\n"
   ]
  },
  {
   "cell_type": "markdown",
   "metadata": {},
   "source": [
    "#### 24. Print the time taken for performing the following operation using list and numpy array\n",
    "####       (x(i)^2 +8) / y(i),   where x and y are real integers from 1 to 60000"
   ]
  },
  {
   "cell_type": "code",
   "execution_count": 1,
   "metadata": {},
   "outputs": [
    {
     "name": "stdout",
     "output_type": "stream",
     "text": [
      "The time taken for list is 2.6941299438476562e-05\n",
      "The time taken for numpy is 3.3855438232421875e-05\n"
     ]
    }
   ],
   "source": [
    "import time\n",
    "def lis():\n",
    "    x=list(range(1,60000))\n",
    "    y=list(range(1,60000))\n",
    "    res=[]\n",
    "    for i in range(len(x)):\n",
    "        res.append((((x[i]**2)+8)/y[i]))\n",
    "def npy():\n",
    "    x=np.array(range(1,60000))\n",
    "    y=np.array(range(1,60000))\n",
    "    res=((x**2)+8)/y\n",
    "start=time.time()\n",
    "end=time.time()\n",
    "print(\"The time taken for list is\",end-start)\n",
    "start1=time.time()\n",
    "end1=time.time()\n",
    "print(\"The time taken for numpy is\",end1-start1)\n",
    "\n"
   ]
  },
  {
   "cell_type": "markdown",
   "metadata": {},
   "source": [
    "#### 25. Create a Github account and upload your solution with the short write-up on Numpy"
   ]
  },
  {
   "cell_type": "markdown",
   "metadata": {},
   "source": [
    "NumPy is a Python library used for working with arrays.\n",
    "\n",
    "It also has functions for working in domain of linear algebra, fourier transform, and matrices.\n",
    "\n",
    "NumPy was created in 2005 by Travis Oliphant. It is an open source project and you can use it freely.\n",
    "\n",
    "NumPy stands for Numerical Python.\n",
    "\n",
    "In Python we have lists that serve the purpose of arrays, but they are slow to process.\n",
    "\n",
    "NumPy aims to provide an array object that is up to 50x faster than traditional Python lists.\n",
    "\n",
    "The array object in NumPy is called ndarray, it provides a lot of supporting functions that make working with ndarray very easy.\n",
    "\n",
    "Arrays are very frequently used in data science, where speed and resources are very important.\n",
    "\n",
    "\n",
    "\n",
    "\n",
    "\n",
    "\n",
    "\n"
   ]
  },
  {
   "cell_type": "code",
   "execution_count": null,
   "metadata": {},
   "outputs": [],
   "source": []
  }
 ],
 "metadata": {
  "kernelspec": {
   "display_name": "Python 3",
   "language": "python",
   "name": "python3"
  },
  "language_info": {
   "codemirror_mode": {
    "name": "ipython",
    "version": 3
   },
   "file_extension": ".py",
   "mimetype": "text/x-python",
   "name": "python",
   "nbconvert_exporter": "python",
   "pygments_lexer": "ipython3",
   "version": "3.8.8"
  }
 },
 "nbformat": 4,
 "nbformat_minor": 2
}
